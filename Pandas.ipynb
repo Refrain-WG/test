{
 "cells": [
  {
   "cell_type": "markdown",
   "metadata": {},
   "source": [
    "## Pandas 学习笔记（博客）"
   ]
  },
  {
   "cell_type": "code",
   "execution_count": 1,
   "metadata": {},
   "outputs": [],
   "source": [
    "# https://blog.csdn.net/Refrain__WG/article/details/88678303\n",
    "# Next to do: 整理 xmind 思维导图"
   ]
  },
  {
   "cell_type": "markdown",
   "metadata": {},
   "source": [
    "## Pandas 数据结构"
   ]
  },
  {
   "cell_type": "markdown",
   "metadata": {},
   "source": [
    "### Series -- 一维数据"
   ]
  },
  {
   "cell_type": "code",
   "execution_count": 4,
   "metadata": {},
   "outputs": [
    {
     "data": {
      "text/plain": [
       "0    4\n",
       "1    7\n",
       "2   -5\n",
       "3    6\n",
       "dtype: int64"
      ]
     },
     "execution_count": 4,
     "metadata": {},
     "output_type": "execute_result"
    }
   ],
   "source": [
    "# Series(一维数组) & DataFrame(二维数组) * 多维数组（MultiIndex\n",
    "# Series -- 一维数据\n",
    "import pandas as pd\n",
    "obj = pd.Series([4, 7, -5, 6])\n",
    "obj"
   ]
  },
  {
   "cell_type": "code",
   "execution_count": 12,
   "metadata": {},
   "outputs": [
    {
     "data": {
      "text/plain": [
       "a    4\n",
       "b    7\n",
       "c   -5\n",
       "d    6\n",
       "dtype: int64"
      ]
     },
     "execution_count": 12,
     "metadata": {},
     "output_type": "execute_result"
    }
   ],
   "source": [
    "obj2 = pd.Series([4, 7, -5, 6], index=['a', 'b', 'c', 'd'])  # 自定义索引\n",
    "obj2"
   ]
  },
  {
   "cell_type": "code",
   "execution_count": 8,
   "metadata": {},
   "outputs": [
    {
     "data": {
      "text/plain": [
       "array([ 4,  7, -5,  6])"
      ]
     },
     "execution_count": 8,
     "metadata": {},
     "output_type": "execute_result"
    }
   ],
   "source": [
    "obj.values"
   ]
  },
  {
   "cell_type": "code",
   "execution_count": 14,
   "metadata": {},
   "outputs": [
    {
     "data": {
      "text/plain": [
       "RangeIndex(start=0, stop=4, step=1)"
      ]
     },
     "execution_count": 14,
     "metadata": {},
     "output_type": "execute_result"
    }
   ],
   "source": [
    "obj.index"
   ]
  },
  {
   "cell_type": "code",
   "execution_count": 13,
   "metadata": {},
   "outputs": [
    {
     "data": {
      "text/plain": [
       "Index(['a', 'b', 'c', 'd'], dtype='object')"
      ]
     },
     "execution_count": 13,
     "metadata": {},
     "output_type": "execute_result"
    }
   ],
   "source": [
    "obj2.index"
   ]
  },
  {
   "cell_type": "code",
   "execution_count": 16,
   "metadata": {},
   "outputs": [
    {
     "data": {
      "text/plain": [
       "6"
      ]
     },
     "execution_count": 16,
     "metadata": {},
     "output_type": "execute_result"
    }
   ],
   "source": [
    "obj2['d']"
   ]
  },
  {
   "cell_type": "code",
   "execution_count": 17,
   "metadata": {},
   "outputs": [
    {
     "data": {
      "text/plain": [
       "a    4\n",
       "b    7\n",
       "dtype: int64"
      ]
     },
     "execution_count": 17,
     "metadata": {},
     "output_type": "execute_result"
    }
   ],
   "source": [
    "obj2[['a', 'b']]"
   ]
  },
  {
   "cell_type": "code",
   "execution_count": 18,
   "metadata": {},
   "outputs": [
    {
     "data": {
      "text/plain": [
       "a    4\n",
       "b    7\n",
       "d    6\n",
       "dtype: int64"
      ]
     },
     "execution_count": 18,
     "metadata": {},
     "output_type": "execute_result"
    }
   ],
   "source": [
    "obj2[obj2 > 0]"
   ]
  },
  {
   "cell_type": "code",
   "execution_count": 19,
   "metadata": {},
   "outputs": [
    {
     "data": {
      "text/plain": [
       "a     8\n",
       "b    14\n",
       "c   -10\n",
       "d    12\n",
       "dtype: int64"
      ]
     },
     "execution_count": 19,
     "metadata": {},
     "output_type": "execute_result"
    }
   ],
   "source": [
    "obj2 * 2"
   ]
  },
  {
   "cell_type": "code",
   "execution_count": 33,
   "metadata": {},
   "outputs": [
    {
     "data": {
      "text/plain": [
       "Bob      4\n",
       "Steve    7\n",
       "Jeff    -5\n",
       "Ali      6\n",
       "dtype: int64"
      ]
     },
     "execution_count": 33,
     "metadata": {},
     "output_type": "execute_result"
    }
   ],
   "source": [
    "# Series 的索引可以通过赋值的方式修改\n",
    "obj.index = ['Bob', 'Steve', 'Jeff', 'Ali']\n",
    "obj"
   ]
  },
  {
   "cell_type": "code",
   "execution_count": 21,
   "metadata": {},
   "outputs": [
    {
     "data": {
      "text/plain": [
       "a      54.598150\n",
       "b    1096.633158\n",
       "c       0.006738\n",
       "d     403.428793\n",
       "dtype: float64"
      ]
     },
     "execution_count": 21,
     "metadata": {},
     "output_type": "execute_result"
    }
   ],
   "source": [
    "import numpy as np\n",
    "np.exp(obj2)     # 自然常数e为底的指数函数, 返回e的幂次方，e是一个常数为2.71828"
   ]
  },
  {
   "cell_type": "code",
   "execution_count": 22,
   "metadata": {},
   "outputs": [
    {
     "data": {
      "text/plain": [
       "True"
      ]
     },
     "execution_count": 22,
     "metadata": {},
     "output_type": "execute_result"
    }
   ],
   "source": [
    "'b' in obj2"
   ]
  },
  {
   "cell_type": "code",
   "execution_count": 23,
   "metadata": {},
   "outputs": [
    {
     "data": {
      "text/plain": [
       "Ohio      35000\n",
       "Texas     71000\n",
       "Oregon    16000\n",
       "Utah       5000\n",
       "dtype: int64"
      ]
     },
     "execution_count": 23,
     "metadata": {},
     "output_type": "execute_result"
    }
   ],
   "source": [
    "# 通过字典创建 Series 对象\n",
    "data = {'Ohio': 35000, 'Texas': 71000, 'Oregon': 16000, 'Utah':5000}\n",
    "obj3 = pd.Series(data)\n",
    "obj3"
   ]
  },
  {
   "cell_type": "code",
   "execution_count": 24,
   "metadata": {},
   "outputs": [
    {
     "data": {
      "text/plain": [
       "California        NaN\n",
       "Ohio          35000.0\n",
       "Oregon        16000.0\n",
       "Texas         71000.0\n",
       "dtype: float64"
      ]
     },
     "execution_count": 24,
     "metadata": {},
     "output_type": "execute_result"
    }
   ],
   "source": [
    "# 传入排好序的键，以改变顺序\n",
    "states = ['California', 'Ohio', 'Oregon', 'Texas']\n",
    "obj4 = pd.Series(data, index=states)\n",
    "obj4"
   ]
  },
  {
   "cell_type": "code",
   "execution_count": 26,
   "metadata": {},
   "outputs": [
    {
     "data": {
      "text/plain": [
       "California     True\n",
       "Ohio          False\n",
       "Oregon        False\n",
       "Texas         False\n",
       "dtype: bool"
      ]
     },
     "execution_count": 26,
     "metadata": {},
     "output_type": "execute_result"
    }
   ],
   "source": [
    "# pandas 中 isnull & notnull 判断是否有缺失值\n",
    "pd.isnull(obj4)"
   ]
  },
  {
   "cell_type": "code",
   "execution_count": 27,
   "metadata": {},
   "outputs": [
    {
     "data": {
      "text/plain": [
       "California    False\n",
       "Ohio           True\n",
       "Oregon         True\n",
       "Texas          True\n",
       "dtype: bool"
      ]
     },
     "execution_count": 27,
     "metadata": {},
     "output_type": "execute_result"
    }
   ],
   "source": [
    "pd.notnull(obj4)"
   ]
  },
  {
   "cell_type": "code",
   "execution_count": 28,
   "metadata": {},
   "outputs": [
    {
     "data": {
      "text/plain": [
       "California     True\n",
       "Ohio          False\n",
       "Oregon        False\n",
       "Texas         False\n",
       "dtype: bool"
      ]
     },
     "execution_count": 28,
     "metadata": {},
     "output_type": "execute_result"
    }
   ],
   "source": [
    "obj4.isnull()"
   ]
  },
  {
   "cell_type": "code",
   "execution_count": 32,
   "metadata": {},
   "outputs": [
    {
     "data": {
      "text/plain": [
       "state\n",
       "California        NaN\n",
       "Ohio          35000.0\n",
       "Oregon        16000.0\n",
       "Texas         71000.0\n",
       "Name: population, dtype: float64"
      ]
     },
     "execution_count": 32,
     "metadata": {},
     "output_type": "execute_result"
    }
   ],
   "source": [
    "# Series name属性\n",
    "obj4.name = 'population'\n",
    "obj4.index.name = 'state'\n",
    "obj4"
   ]
  },
  {
   "cell_type": "markdown",
   "metadata": {},
   "source": [
    "### DataFrame  -- 二维数据"
   ]
  },
  {
   "cell_type": "code",
   "execution_count": 34,
   "metadata": {},
   "outputs": [
    {
     "data": {
      "text/plain": [
       "array([[-0.73457842,  0.57166844, -0.0856376 ,  0.69667265,  0.4365187 ],\n",
       "       [-0.34046531, -0.11646408, -0.68002591, -0.1335528 , -1.00771834],\n",
       "       [ 0.7419575 ,  0.39700695, -0.82321464,  0.47205805,  0.32054357],\n",
       "       [-0.54871943,  0.01615495,  0.90671372, -1.04362143, -0.46346137],\n",
       "       [-0.55905372,  0.61771197,  0.08786458,  0.80188893, -1.3400693 ],\n",
       "       [-1.71131334,  0.6300688 ,  1.86108262,  2.54546247,  0.1087077 ],\n",
       "       [ 0.62033781, -0.60082891, -0.28290567,  0.8012135 , -1.20358139],\n",
       "       [ 0.11240283, -0.64721729, -0.20679359,  1.29618567,  1.48331288],\n",
       "       [-2.43833686,  1.98772482, -0.61045156, -2.04470197, -0.16739907],\n",
       "       [ 0.50075525, -0.55174008, -2.12969016, -0.04282519,  1.25483053]])"
      ]
     },
     "execution_count": 34,
     "metadata": {},
     "output_type": "execute_result"
    }
   ],
   "source": [
    "# 创建一个符合正态分布的10个股票5天的涨跌幅数据\n",
    "import pandas as pd\n",
    "import numpy as np\n",
    " \n",
    "stock_change = np.random.normal(0, 1, (10, 5))\n",
    "stock_change"
   ]
  },
  {
   "cell_type": "code",
   "execution_count": 35,
   "metadata": {},
   "outputs": [
    {
     "data": {
      "text/html": [
       "<div>\n",
       "<style scoped>\n",
       "    .dataframe tbody tr th:only-of-type {\n",
       "        vertical-align: middle;\n",
       "    }\n",
       "\n",
       "    .dataframe tbody tr th {\n",
       "        vertical-align: top;\n",
       "    }\n",
       "\n",
       "    .dataframe thead th {\n",
       "        text-align: right;\n",
       "    }\n",
       "</style>\n",
       "<table border=\"1\" class=\"dataframe\">\n",
       "  <thead>\n",
       "    <tr style=\"text-align: right;\">\n",
       "      <th></th>\n",
       "      <th>2019-03-01 00:00:00</th>\n",
       "      <th>2019-03-04 00:00:00</th>\n",
       "      <th>2019-03-05 00:00:00</th>\n",
       "      <th>2019-03-06 00:00:00</th>\n",
       "      <th>2019-03-07 00:00:00</th>\n",
       "    </tr>\n",
       "  </thead>\n",
       "  <tbody>\n",
       "    <tr>\n",
       "      <th>股票0</th>\n",
       "      <td>-0.734578</td>\n",
       "      <td>0.571668</td>\n",
       "      <td>-0.085638</td>\n",
       "      <td>0.696673</td>\n",
       "      <td>0.436519</td>\n",
       "    </tr>\n",
       "    <tr>\n",
       "      <th>股票1</th>\n",
       "      <td>-0.340465</td>\n",
       "      <td>-0.116464</td>\n",
       "      <td>-0.680026</td>\n",
       "      <td>-0.133553</td>\n",
       "      <td>-1.007718</td>\n",
       "    </tr>\n",
       "    <tr>\n",
       "      <th>股票2</th>\n",
       "      <td>0.741958</td>\n",
       "      <td>0.397007</td>\n",
       "      <td>-0.823215</td>\n",
       "      <td>0.472058</td>\n",
       "      <td>0.320544</td>\n",
       "    </tr>\n",
       "    <tr>\n",
       "      <th>股票3</th>\n",
       "      <td>-0.548719</td>\n",
       "      <td>0.016155</td>\n",
       "      <td>0.906714</td>\n",
       "      <td>-1.043621</td>\n",
       "      <td>-0.463461</td>\n",
       "    </tr>\n",
       "    <tr>\n",
       "      <th>股票4</th>\n",
       "      <td>-0.559054</td>\n",
       "      <td>0.617712</td>\n",
       "      <td>0.087865</td>\n",
       "      <td>0.801889</td>\n",
       "      <td>-1.340069</td>\n",
       "    </tr>\n",
       "    <tr>\n",
       "      <th>股票5</th>\n",
       "      <td>-1.711313</td>\n",
       "      <td>0.630069</td>\n",
       "      <td>1.861083</td>\n",
       "      <td>2.545462</td>\n",
       "      <td>0.108708</td>\n",
       "    </tr>\n",
       "    <tr>\n",
       "      <th>股票6</th>\n",
       "      <td>0.620338</td>\n",
       "      <td>-0.600829</td>\n",
       "      <td>-0.282906</td>\n",
       "      <td>0.801214</td>\n",
       "      <td>-1.203581</td>\n",
       "    </tr>\n",
       "    <tr>\n",
       "      <th>股票7</th>\n",
       "      <td>0.112403</td>\n",
       "      <td>-0.647217</td>\n",
       "      <td>-0.206794</td>\n",
       "      <td>1.296186</td>\n",
       "      <td>1.483313</td>\n",
       "    </tr>\n",
       "    <tr>\n",
       "      <th>股票8</th>\n",
       "      <td>-2.438337</td>\n",
       "      <td>1.987725</td>\n",
       "      <td>-0.610452</td>\n",
       "      <td>-2.044702</td>\n",
       "      <td>-0.167399</td>\n",
       "    </tr>\n",
       "    <tr>\n",
       "      <th>股票9</th>\n",
       "      <td>0.500755</td>\n",
       "      <td>-0.551740</td>\n",
       "      <td>-2.129690</td>\n",
       "      <td>-0.042825</td>\n",
       "      <td>1.254831</td>\n",
       "    </tr>\n",
       "  </tbody>\n",
       "</table>\n",
       "</div>"
      ],
      "text/plain": [
       "     2019-03-01  2019-03-04  2019-03-05  2019-03-06  2019-03-07\n",
       "股票0   -0.734578    0.571668   -0.085638    0.696673    0.436519\n",
       "股票1   -0.340465   -0.116464   -0.680026   -0.133553   -1.007718\n",
       "股票2    0.741958    0.397007   -0.823215    0.472058    0.320544\n",
       "股票3   -0.548719    0.016155    0.906714   -1.043621   -0.463461\n",
       "股票4   -0.559054    0.617712    0.087865    0.801889   -1.340069\n",
       "股票5   -1.711313    0.630069    1.861083    2.545462    0.108708\n",
       "股票6    0.620338   -0.600829   -0.282906    0.801214   -1.203581\n",
       "股票7    0.112403   -0.647217   -0.206794    1.296186    1.483313\n",
       "股票8   -2.438337    1.987725   -0.610452   -2.044702   -0.167399\n",
       "股票9    0.500755   -0.551740   -2.129690   -0.042825    1.254831"
      ]
     },
     "execution_count": 35,
     "metadata": {},
     "output_type": "execute_result"
    }
   ],
   "source": [
    "# 构造Pandas中的DataFrame数据结构 -- 添加 行索引序列 & 列索引序列\n",
    "stock_code = [\"股票{}\".format(i) for i in range(stock_change.shape[0])]    # 行索引\n",
    " \n",
    "date = pd.date_range('2019-03-01', periods=stock_change.shape[1], freq='B')  # 生成一个时间的序列，略过周末非交易日\n",
    " \n",
    "data = pd.DataFrame(stock_change, index=stock_code, columns=date)\n",
    "data"
   ]
  },
  {
   "cell_type": "code",
   "execution_count": 36,
   "metadata": {},
   "outputs": [
    {
     "data": {
      "text/plain": [
       "(10, 5)"
      ]
     },
     "execution_count": 36,
     "metadata": {},
     "output_type": "execute_result"
    }
   ],
   "source": [
    "# DataFrame 属性和常用方法\n",
    "data.shape"
   ]
  },
  {
   "cell_type": "code",
   "execution_count": 37,
   "metadata": {},
   "outputs": [
    {
     "data": {
      "text/plain": [
       "Index(['股票0', '股票1', '股票2', '股票3', '股票4', '股票5', '股票6', '股票7', '股票8', '股票9'], dtype='object')"
      ]
     },
     "execution_count": 37,
     "metadata": {},
     "output_type": "execute_result"
    }
   ],
   "source": [
    "data.index"
   ]
  },
  {
   "cell_type": "code",
   "execution_count": 38,
   "metadata": {},
   "outputs": [
    {
     "data": {
      "text/plain": [
       "DatetimeIndex(['2019-03-01', '2019-03-04', '2019-03-05', '2019-03-06',\n",
       "               '2019-03-07'],\n",
       "              dtype='datetime64[ns]', freq='B')"
      ]
     },
     "execution_count": 38,
     "metadata": {},
     "output_type": "execute_result"
    }
   ],
   "source": [
    "data.columns"
   ]
  },
  {
   "cell_type": "code",
   "execution_count": 39,
   "metadata": {},
   "outputs": [
    {
     "data": {
      "text/plain": [
       "array([[-0.73457842,  0.57166844, -0.0856376 ,  0.69667265,  0.4365187 ],\n",
       "       [-0.34046531, -0.11646408, -0.68002591, -0.1335528 , -1.00771834],\n",
       "       [ 0.7419575 ,  0.39700695, -0.82321464,  0.47205805,  0.32054357],\n",
       "       [-0.54871943,  0.01615495,  0.90671372, -1.04362143, -0.46346137],\n",
       "       [-0.55905372,  0.61771197,  0.08786458,  0.80188893, -1.3400693 ],\n",
       "       [-1.71131334,  0.6300688 ,  1.86108262,  2.54546247,  0.1087077 ],\n",
       "       [ 0.62033781, -0.60082891, -0.28290567,  0.8012135 , -1.20358139],\n",
       "       [ 0.11240283, -0.64721729, -0.20679359,  1.29618567,  1.48331288],\n",
       "       [-2.43833686,  1.98772482, -0.61045156, -2.04470197, -0.16739907],\n",
       "       [ 0.50075525, -0.55174008, -2.12969016, -0.04282519,  1.25483053]])"
      ]
     },
     "execution_count": 39,
     "metadata": {},
     "output_type": "execute_result"
    }
   ],
   "source": [
    "data.values"
   ]
  },
  {
   "cell_type": "code",
   "execution_count": 40,
   "metadata": {},
   "outputs": [
    {
     "data": {
      "text/html": [
       "<div>\n",
       "<style scoped>\n",
       "    .dataframe tbody tr th:only-of-type {\n",
       "        vertical-align: middle;\n",
       "    }\n",
       "\n",
       "    .dataframe tbody tr th {\n",
       "        vertical-align: top;\n",
       "    }\n",
       "\n",
       "    .dataframe thead th {\n",
       "        text-align: right;\n",
       "    }\n",
       "</style>\n",
       "<table border=\"1\" class=\"dataframe\">\n",
       "  <thead>\n",
       "    <tr style=\"text-align: right;\">\n",
       "      <th></th>\n",
       "      <th>2019-03-01 00:00:00</th>\n",
       "      <th>2019-03-04 00:00:00</th>\n",
       "      <th>2019-03-05 00:00:00</th>\n",
       "      <th>2019-03-06 00:00:00</th>\n",
       "      <th>2019-03-07 00:00:00</th>\n",
       "    </tr>\n",
       "  </thead>\n",
       "  <tbody>\n",
       "    <tr>\n",
       "      <th>股票0</th>\n",
       "      <td>-0.734578</td>\n",
       "      <td>0.571668</td>\n",
       "      <td>-0.085638</td>\n",
       "      <td>0.696673</td>\n",
       "      <td>0.436519</td>\n",
       "    </tr>\n",
       "    <tr>\n",
       "      <th>股票1</th>\n",
       "      <td>-0.340465</td>\n",
       "      <td>-0.116464</td>\n",
       "      <td>-0.680026</td>\n",
       "      <td>-0.133553</td>\n",
       "      <td>-1.007718</td>\n",
       "    </tr>\n",
       "    <tr>\n",
       "      <th>股票2</th>\n",
       "      <td>0.741958</td>\n",
       "      <td>0.397007</td>\n",
       "      <td>-0.823215</td>\n",
       "      <td>0.472058</td>\n",
       "      <td>0.320544</td>\n",
       "    </tr>\n",
       "    <tr>\n",
       "      <th>股票3</th>\n",
       "      <td>-0.548719</td>\n",
       "      <td>0.016155</td>\n",
       "      <td>0.906714</td>\n",
       "      <td>-1.043621</td>\n",
       "      <td>-0.463461</td>\n",
       "    </tr>\n",
       "    <tr>\n",
       "      <th>股票4</th>\n",
       "      <td>-0.559054</td>\n",
       "      <td>0.617712</td>\n",
       "      <td>0.087865</td>\n",
       "      <td>0.801889</td>\n",
       "      <td>-1.340069</td>\n",
       "    </tr>\n",
       "  </tbody>\n",
       "</table>\n",
       "</div>"
      ],
      "text/plain": [
       "     2019-03-01  2019-03-04  2019-03-05  2019-03-06  2019-03-07\n",
       "股票0   -0.734578    0.571668   -0.085638    0.696673    0.436519\n",
       "股票1   -0.340465   -0.116464   -0.680026   -0.133553   -1.007718\n",
       "股票2    0.741958    0.397007   -0.823215    0.472058    0.320544\n",
       "股票3   -0.548719    0.016155    0.906714   -1.043621   -0.463461\n",
       "股票4   -0.559054    0.617712    0.087865    0.801889   -1.340069"
      ]
     },
     "execution_count": 40,
     "metadata": {},
     "output_type": "execute_result"
    }
   ],
   "source": [
    "data.head(5)"
   ]
  },
  {
   "cell_type": "code",
   "execution_count": 41,
   "metadata": {},
   "outputs": [
    {
     "data": {
      "text/html": [
       "<div>\n",
       "<style scoped>\n",
       "    .dataframe tbody tr th:only-of-type {\n",
       "        vertical-align: middle;\n",
       "    }\n",
       "\n",
       "    .dataframe tbody tr th {\n",
       "        vertical-align: top;\n",
       "    }\n",
       "\n",
       "    .dataframe thead th {\n",
       "        text-align: right;\n",
       "    }\n",
       "</style>\n",
       "<table border=\"1\" class=\"dataframe\">\n",
       "  <thead>\n",
       "    <tr style=\"text-align: right;\">\n",
       "      <th></th>\n",
       "      <th>2019-03-01 00:00:00</th>\n",
       "      <th>2019-03-04 00:00:00</th>\n",
       "      <th>2019-03-05 00:00:00</th>\n",
       "      <th>2019-03-06 00:00:00</th>\n",
       "      <th>2019-03-07 00:00:00</th>\n",
       "    </tr>\n",
       "  </thead>\n",
       "  <tbody>\n",
       "    <tr>\n",
       "      <th>股票5</th>\n",
       "      <td>-1.711313</td>\n",
       "      <td>0.630069</td>\n",
       "      <td>1.861083</td>\n",
       "      <td>2.545462</td>\n",
       "      <td>0.108708</td>\n",
       "    </tr>\n",
       "    <tr>\n",
       "      <th>股票6</th>\n",
       "      <td>0.620338</td>\n",
       "      <td>-0.600829</td>\n",
       "      <td>-0.282906</td>\n",
       "      <td>0.801214</td>\n",
       "      <td>-1.203581</td>\n",
       "    </tr>\n",
       "    <tr>\n",
       "      <th>股票7</th>\n",
       "      <td>0.112403</td>\n",
       "      <td>-0.647217</td>\n",
       "      <td>-0.206794</td>\n",
       "      <td>1.296186</td>\n",
       "      <td>1.483313</td>\n",
       "    </tr>\n",
       "    <tr>\n",
       "      <th>股票8</th>\n",
       "      <td>-2.438337</td>\n",
       "      <td>1.987725</td>\n",
       "      <td>-0.610452</td>\n",
       "      <td>-2.044702</td>\n",
       "      <td>-0.167399</td>\n",
       "    </tr>\n",
       "    <tr>\n",
       "      <th>股票9</th>\n",
       "      <td>0.500755</td>\n",
       "      <td>-0.551740</td>\n",
       "      <td>-2.129690</td>\n",
       "      <td>-0.042825</td>\n",
       "      <td>1.254831</td>\n",
       "    </tr>\n",
       "  </tbody>\n",
       "</table>\n",
       "</div>"
      ],
      "text/plain": [
       "     2019-03-01  2019-03-04  2019-03-05  2019-03-06  2019-03-07\n",
       "股票5   -1.711313    0.630069    1.861083    2.545462    0.108708\n",
       "股票6    0.620338   -0.600829   -0.282906    0.801214   -1.203581\n",
       "股票7    0.112403   -0.647217   -0.206794    1.296186    1.483313\n",
       "股票8   -2.438337    1.987725   -0.610452   -2.044702   -0.167399\n",
       "股票9    0.500755   -0.551740   -2.129690   -0.042825    1.254831"
      ]
     },
     "execution_count": 41,
     "metadata": {},
     "output_type": "execute_result"
    }
   ],
   "source": [
    "data.tail(5)"
   ]
  },
  {
   "cell_type": "code",
   "execution_count": 52,
   "metadata": {},
   "outputs": [
    {
     "data": {
      "text/plain": [
       "股票0   -0.734578\n",
       "股票1   -0.340465\n",
       "股票2    0.741958\n",
       "股票3   -0.548719\n",
       "股票4   -0.559054\n",
       "股票5   -1.711313\n",
       "股票6    0.620338\n",
       "股票7    0.112403\n",
       "股票8   -2.438337\n",
       "股票9    0.500755\n",
       "Name: 2019-03-01 00:00:00, dtype: float64"
      ]
     },
     "execution_count": 52,
     "metadata": {},
     "output_type": "execute_result"
    }
   ],
   "source": [
    "data['2019-03-01']   # 获取某列"
   ]
  },
  {
   "cell_type": "code",
   "execution_count": 55,
   "metadata": {},
   "outputs": [
    {
     "data": {
      "text/plain": [
       "2019-03-01   -0.340465\n",
       "2019-03-04   -0.116464\n",
       "2019-03-05   -0.680026\n",
       "2019-03-06   -0.133553\n",
       "2019-03-07   -1.007718\n",
       "Freq: B, Name: 股票1, dtype: float64"
      ]
     },
     "execution_count": 55,
     "metadata": {},
     "output_type": "execute_result"
    }
   ],
   "source": [
    "data.loc['股票1']   # 获取某行"
   ]
  },
  {
   "cell_type": "code",
   "execution_count": 57,
   "metadata": {},
   "outputs": [
    {
     "data": {
      "text/plain": [
       "-0.34046531399978786"
      ]
     },
     "execution_count": 57,
     "metadata": {},
     "output_type": "execute_result"
    }
   ],
   "source": [
    "data.loc['股票1', '2019-03-01']   # 获取某列中的某一行（先列后行，否则报错）"
   ]
  },
  {
   "cell_type": "code",
   "execution_count": 59,
   "metadata": {},
   "outputs": [
    {
     "data": {
      "text/plain": [
       "-0.34046531399978786"
      ]
     },
     "execution_count": 59,
     "metadata": {},
     "output_type": "execute_result"
    }
   ],
   "source": [
    "data['2019-03-01']['股票1']       # 获取某一行中的某一列"
   ]
  },
  {
   "cell_type": "code",
   "execution_count": 60,
   "metadata": {},
   "outputs": [],
   "source": [
    "# 修改数据 -- 赋值操作"
   ]
  },
  {
   "cell_type": "code",
   "execution_count": null,
   "metadata": {},
   "outputs": [],
   "source": [
    "# 删除数据 -- pd.drop([], axis=1)   # 1:列， 0:行"
   ]
  },
  {
   "cell_type": "code",
   "execution_count": null,
   "metadata": {},
   "outputs": [],
   "source": [
    "# 排序 -- sort_values() & sort_index()"
   ]
  },
  {
   "cell_type": "code",
   "execution_count": null,
   "metadata": {},
   "outputs": [],
   "source": []
  },
  {
   "cell_type": "markdown",
   "metadata": {},
   "source": [
    "## 运算"
   ]
  },
  {
   "cell_type": "code",
   "execution_count": null,
   "metadata": {},
   "outputs": [],
   "source": [
    "# 算数运算 & 逻辑运算 & 统计运算 "
   ]
  },
  {
   "cell_type": "code",
   "execution_count": null,
   "metadata": {},
   "outputs": [],
   "source": []
  },
  {
   "cell_type": "markdown",
   "metadata": {},
   "source": [
    "## 文件的读取和存储"
   ]
  },
  {
   "cell_type": "code",
   "execution_count": null,
   "metadata": {},
   "outputs": [],
   "source": [
    "# csv 文件： read_csv & to_csv"
   ]
  },
  {
   "cell_type": "code",
   "execution_count": null,
   "metadata": {},
   "outputs": [],
   "source": [
    "# hdf 文件：read_hdf & to_hdf"
   ]
  },
  {
   "cell_type": "code",
   "execution_count": null,
   "metadata": {},
   "outputs": [],
   "source": [
    "# json 文件：read_json & to_json"
   ]
  },
  {
   "cell_type": "code",
   "execution_count": null,
   "metadata": {},
   "outputs": [],
   "source": []
  },
  {
   "cell_type": "markdown",
   "metadata": {},
   "source": [
    "## 数据高级处理"
   ]
  },
  {
   "cell_type": "code",
   "execution_count": null,
   "metadata": {},
   "outputs": [],
   "source": [
    "# 缺失值"
   ]
  },
  {
   "cell_type": "code",
   "execution_count": null,
   "metadata": {},
   "outputs": [],
   "source": [
    "# 离散化"
   ]
  },
  {
   "cell_type": "code",
   "execution_count": null,
   "metadata": {},
   "outputs": [],
   "source": [
    "# 合并"
   ]
  },
  {
   "cell_type": "code",
   "execution_count": null,
   "metadata": {},
   "outputs": [],
   "source": [
    "# 分组聚合"
   ]
  },
  {
   "cell_type": "code",
   "execution_count": null,
   "metadata": {},
   "outputs": [],
   "source": []
  },
  {
   "cell_type": "code",
   "execution_count": null,
   "metadata": {},
   "outputs": [],
   "source": []
  }
 ],
 "metadata": {
  "kernelspec": {
   "display_name": "Python 3",
   "language": "python",
   "name": "python3"
  },
  "language_info": {
   "codemirror_mode": {
    "name": "ipython",
    "version": 3
   },
   "file_extension": ".py",
   "mimetype": "text/x-python",
   "name": "python",
   "nbconvert_exporter": "python",
   "pygments_lexer": "ipython3",
   "version": "3.7.0"
  }
 },
 "nbformat": 4,
 "nbformat_minor": 2
}
